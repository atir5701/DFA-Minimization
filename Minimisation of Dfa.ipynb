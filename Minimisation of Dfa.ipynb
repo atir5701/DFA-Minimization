{
 "cells": [
  {
   "cell_type": "code",
   "execution_count": 1,
   "metadata": {},
   "outputs": [],
   "source": [
    "import numpy as np\n",
    "import pandas as pd"
   ]
  },
  {
   "cell_type": "code",
   "execution_count": 2,
   "metadata": {},
   "outputs": [],
   "source": [
    "n = int(input(\"Enter the total number of states in the DFA: \"))\n",
    "state = input(\"Enter the states in DFA: \").split()\n",
    "symbol = input(\"Enter the symbols in the DFA: \").split()"
   ]
  },
  {
   "cell_type": "code",
   "execution_count": 3,
   "metadata": {},
   "outputs": [],
   "source": [
    "# Mapping of the states to numeric values \n",
    "\n",
    "total_states = [i for i in range(n)]\n",
    "w = []\n",
    "for i in range(len(state)):\n",
    "    w.append((i, state[i]))\n",
    "mapping = dict(w)"
   ]
  },
  {
   "cell_type": "code",
   "execution_count": 4,
   "metadata": {},
   "outputs": [],
   "source": [
    "Temp = input(\"Enter the final states in DFA: \").split()"
   ]
  },
  {
   "cell_type": "code",
   "execution_count": 5,
   "metadata": {},
   "outputs": [
    {
     "data": {
      "text/plain": "[1, 2, 5]"
     },
     "execution_count": 5,
     "metadata": {},
     "output_type": "execute_result"
    }
   ],
   "source": [
    "# Mapping for Final States\n",
    "\n",
    "final = []\n",
    "\n",
    "for i in Temp:\n",
    "    for k in mapping:\n",
    "        if mapping[k] == i:\n",
    "            final.append(k)\n",
    "            break\n",
    "final"
   ]
  },
  {
   "cell_type": "code",
   "execution_count": 10,
   "metadata": {},
   "outputs": [
    {
     "data": {
      "text/plain": "[['Q1', 'Q2'],\n ['Q0', 'Q3'],\n ['Q4', 'Q5'],\n ['Q4', 'Q5'],\n ['Q4', 'Q5'],\n ['Q5', 'Q5']]"
     },
     "execution_count": 10,
     "metadata": {},
     "output_type": "execute_result"
    }
   ],
   "source": [
    "# Transaction table of the DFA\n",
    "\n",
    "transaction_table = np.zeros(shape=(n,len(symbol)),dtype='int32')\n",
    "for_display = []\n",
    "for i in range(0, n):\n",
    "    t = []\n",
    "    for k in range(len(symbol)):\n",
    "        temp = input(\"Enter the state whose transition is from \" +state[i]+ \" state for symbol \" +symbol[k])\n",
    "        t.append(temp)\n",
    "        for j in mapping:\n",
    "            if mapping[j] == temp:\n",
    "                temp = j\n",
    "                break\n",
    "        transaction_table[i][k] = temp\n",
    "    for_display.append(t)\n",
    "for_display"
   ]
  },
  {
   "cell_type": "code",
   "execution_count": 11,
   "metadata": {},
   "outputs": [
    {
     "name": "stdout",
     "output_type": "stream",
     "text": [
      "Shape: (6, 2)\n"
     ]
    },
    {
     "data": {
      "text/plain": "array([[1, 2],\n       [0, 3],\n       [4, 5],\n       [4, 5],\n       [4, 5],\n       [5, 5]])"
     },
     "execution_count": 11,
     "metadata": {},
     "output_type": "execute_result"
    }
   ],
   "source": [
    "print(\"Shape: \" + str(transaction_table.shape))\n",
    "transaction_table"
   ]
  },
  {
   "cell_type": "code",
   "execution_count": 12,
   "metadata": {},
   "outputs": [
    {
     "name": "stdout",
     "output_type": "stream",
     "text": [
      "Valid States in DFA are - \n",
      "{0, 1, 2, 3, 4, 5}\n",
      "\n",
      "Unreachable state are - \n",
      "set()\n"
     ]
    }
   ],
   "source": [
    "# Removing in-accessible states \n",
    "\n",
    "y = set([0])\n",
    "previous_length = len(y)\n",
    "\n",
    "while True:\n",
    "    m = set()\n",
    "    for i in y:\n",
    "        t = set(transaction_table[i])\n",
    "        m = m.union(t)\n",
    "    y = y.union(m)\n",
    "    if previous_length == len(y):\n",
    "        break\n",
    "    else:\n",
    "        previous_length = len(y)\n",
    "\n",
    "print(\"Valid States in DFA are - \")\n",
    "print(y, end='\\n\\n')\n",
    "unreachable_state = set(total_states) - y\n",
    "print(\"Unreachable state are - \")\n",
    "print(unreachable_state)"
   ]
  },
  {
   "cell_type": "code",
   "execution_count": 13,
   "metadata": {},
   "outputs": [
    {
     "name": "stdout",
     "output_type": "stream",
     "text": [
      "[[1 2]\n",
      " [0 3]\n",
      " [4 5]\n",
      " [4 5]\n",
      " [4 5]\n",
      " [5 5]]\n"
     ]
    }
   ],
   "source": [
    "# Removing Unreachable State from the entire transactional data\n",
    "\n",
    "if len(unreachable_state) == 0:\n",
    "    print(transaction_table)\n",
    "else:\n",
    "    n -= len(unreachable_state)\n",
    "    for i in unreachable_state:\n",
    "        transaction_table = np.delete(transaction_table, i, 0)\n",
    "        total_states.remove(i)\n",
    "        del for_display[i]\n",
    "        del state[i]"
   ]
  },
  {
   "cell_type": "code",
   "execution_count": 14,
   "metadata": {},
   "outputs": [
    {
     "name": "stdout",
     "output_type": "stream",
     "text": [
      "Transaction Table is \n"
     ]
    },
    {
     "data": {
      "text/plain": "     0   1\nQ0  Q1  Q2\nQ1  Q0  Q3\nQ2  Q4  Q5\nQ3  Q4  Q5\nQ4  Q4  Q5\nQ5  Q5  Q5",
      "text/html": "<div>\n<style scoped>\n    .dataframe tbody tr th:only-of-type {\n        vertical-align: middle;\n    }\n\n    .dataframe tbody tr th {\n        vertical-align: top;\n    }\n\n    .dataframe thead th {\n        text-align: right;\n    }\n</style>\n<table border=\"1\" class=\"dataframe\">\n  <thead>\n    <tr style=\"text-align: right;\">\n      <th></th>\n      <th>0</th>\n      <th>1</th>\n    </tr>\n  </thead>\n  <tbody>\n    <tr>\n      <th>Q0</th>\n      <td>Q1</td>\n      <td>Q2</td>\n    </tr>\n    <tr>\n      <th>Q1</th>\n      <td>Q0</td>\n      <td>Q3</td>\n    </tr>\n    <tr>\n      <th>Q2</th>\n      <td>Q4</td>\n      <td>Q5</td>\n    </tr>\n    <tr>\n      <th>Q3</th>\n      <td>Q4</td>\n      <td>Q5</td>\n    </tr>\n    <tr>\n      <th>Q4</th>\n      <td>Q4</td>\n      <td>Q5</td>\n    </tr>\n    <tr>\n      <th>Q5</th>\n      <td>Q5</td>\n      <td>Q5</td>\n    </tr>\n  </tbody>\n</table>\n</div>"
     },
     "execution_count": 14,
     "metadata": {},
     "output_type": "execute_result"
    }
   ],
   "source": [
    "print(\"Transaction Table is \")\n",
    "table = pd.DataFrame(for_display,columns=symbol,index=state)\n",
    "table"
   ]
  },
  {
   "cell_type": "code",
   "execution_count": 15,
   "metadata": {},
   "outputs": [
    {
     "data": {
      "text/plain": "array([[-1., -1., -1., -1., -1., -1.],\n       [ 1., -1., -1., -1., -1., -1.],\n       [ 1.,  0., -1., -1., -1., -1.],\n       [ 0.,  1.,  1., -1., -1., -1.],\n       [ 0.,  1.,  1.,  0., -1., -1.],\n       [ 1.,  0.,  0.,  1.,  1., -1.]])"
     },
     "execution_count": 15,
     "metadata": {},
     "output_type": "execute_result"
    }
   ],
   "source": [
    "# inital Iteration\n",
    "\n",
    "temp = np.zeros(shape=(n, n))\n",
    "\n",
    "for i in range(0, n):\n",
    "    for j in range(0, i):\n",
    "        if (i in final and j not in final) or (i not in final and j in final):\n",
    "            temp[i][j] = 1\n",
    "    for j in range(i, n):\n",
    "        temp[i][j] = -1\n",
    "temp"
   ]
  },
  {
   "cell_type": "code",
   "execution_count": 16,
   "metadata": {},
   "outputs": [],
   "source": [
    "count = (n * (n-1)) // 2\n",
    "prev_count = count\n",
    "\n",
    "while True:\n",
    "    for i in range(1, n):\n",
    "        for j in range(0, i):\n",
    "            for k in range(len(symbol)): \n",
    "                if temp[i][j] == 1:\n",
    "                    continue             \n",
    "                elif temp[int(transaction_table[i][k])][int(transaction_table[j][k])] == 1 or \\\n",
    "                        temp[int(transaction_table[j][k])][int(transaction_table[i][k])] == 1:\n",
    "                    temp[i][j] = 1\n",
    "                    count -= 1\n",
    "\n",
    "    if count == prev_count:\n",
    "        break\n",
    "    else:\n",
    "        prev_count = count"
   ]
  },
  {
   "cell_type": "code",
   "execution_count": 17,
   "metadata": {},
   "outputs": [
    {
     "name": "stdout",
     "output_type": "stream",
     "text": [
      "Final Table\n"
     ]
    },
    {
     "data": {
      "text/plain": "array([[-1., -1., -1., -1., -1., -1.],\n       [ 1., -1., -1., -1., -1., -1.],\n       [ 1.,  1., -1., -1., -1., -1.],\n       [ 1.,  1.,  1., -1., -1., -1.],\n       [ 1.,  1.,  1.,  0., -1., -1.],\n       [ 1.,  1.,  1.,  1.,  1., -1.]])"
     },
     "execution_count": 17,
     "metadata": {},
     "output_type": "execute_result"
    }
   ],
   "source": [
    "print(\"Final Table\")\n",
    "temp"
   ]
  },
  {
   "cell_type": "code",
   "execution_count": 18,
   "metadata": {},
   "outputs": [
    {
     "data": {
      "text/plain": "[[4, 3]]"
     },
     "execution_count": 18,
     "metadata": {},
     "output_type": "execute_result"
    }
   ],
   "source": [
    "# finding the states which can be combined\n",
    "\n",
    "possible_combine = []\n",
    "for i in range(n):\n",
    "    for j in range(0, i):\n",
    "        if temp[i][j] == 0:\n",
    "            possible_combine.append([i, j])\n",
    "\n",
    "possible_combine"
   ]
  },
  {
   "cell_type": "code",
   "execution_count": 19,
   "metadata": {},
   "outputs": [
    {
     "data": {
      "text/plain": "[[4, 3]]"
     },
     "execution_count": 19,
     "metadata": {},
     "output_type": "execute_result"
    }
   ],
   "source": [
    "# transitive combination possible\n",
    "\n",
    "temp = []\n",
    "\n",
    "for i in possible_combine:\n",
    "    for j in possible_combine:\n",
    "        if i[1] == j[0] and [i[0], j[1]] in possible_combine:\n",
    "            temp.append([i[0], i[1], j[1]])\n",
    "            break\n",
    "    else:\n",
    "        temp.append(i)\n",
    "temp"
   ]
  },
  {
   "cell_type": "code",
   "execution_count": 20,
   "metadata": {},
   "outputs": [
    {
     "data": {
      "text/plain": "[[4, 3]]"
     },
     "execution_count": 20,
     "metadata": {},
     "output_type": "execute_result"
    }
   ],
   "source": [
    "final_combination = []\n",
    "x = []\n",
    "for i in range(len(temp)):\n",
    "    c = 0\n",
    "    for j in range(i + 1, len(temp)):\n",
    "        if len(set(temp[i]) - set(temp[j])) == 0:\n",
    "            c += 1\n",
    "    if c == 0:\n",
    "        final_combination.append(temp[i])\n",
    "        x.extend(temp[i])\n",
    "final_combination"
   ]
  },
  {
   "cell_type": "code",
   "execution_count": 21,
   "metadata": {},
   "outputs": [
    {
     "data": {
      "text/plain": "[0, 1, 2, 3, 4, 5]"
     },
     "execution_count": 21,
     "metadata": {},
     "output_type": "execute_result"
    }
   ],
   "source": [
    "total_states"
   ]
  },
  {
   "cell_type": "code",
   "execution_count": 22,
   "metadata": {},
   "outputs": [
    {
     "data": {
      "text/plain": "[[4, 3], [0], [1], [2], [5]]"
     },
     "execution_count": 22,
     "metadata": {},
     "output_type": "execute_result"
    }
   ],
   "source": [
    "final_states = final_combination.copy()\n",
    "x = list(set(total_states) - set(x))\n",
    "for i in x:\n",
    "    final_states.append([i])\n",
    "\n",
    "final_states"
   ]
  },
  {
   "cell_type": "code",
   "execution_count": 23,
   "metadata": {},
   "outputs": [
    {
     "name": "stdout",
     "output_type": "stream",
     "text": [
      "Total Number of states in the Minimized DFA is: 5\n"
     ]
    }
   ],
   "source": [
    "length = len(final_states)\n",
    "\n",
    "print(\"Total Number of states in the Minimized DFA is: \" + str(length))"
   ]
  },
  {
   "cell_type": "code",
   "execution_count": 24,
   "metadata": {},
   "outputs": [],
   "source": [
    "# final Transitions\n",
    "\n",
    "final_transtions = []\n",
    "\n",
    "for i in final_states:\n",
    "    t = i[0]\n",
    "    r = []\n",
    "    for k in range(len(symbol)):\n",
    "        e = transaction_table[t][k]\n",
    "        for j in final_states:\n",
    "            if e in j:\n",
    "                str = ''\n",
    "                for k in j:\n",
    "                    str += mapping[k]\n",
    "                break\n",
    "        r.append(str)\n",
    "    final_transtions.append(r)"
   ]
  },
  {
   "cell_type": "code",
   "execution_count": 25,
   "metadata": {},
   "outputs": [],
   "source": [
    "# indexes generation\n",
    "\n",
    "index = []\n",
    "for i in range(len(final_states)):\n",
    "    str = ''\n",
    "    for j in range(len(final_states[i])):\n",
    "        str += mapping[final_states[i][j]]\n",
    "    index.append(str)"
   ]
  },
  {
   "cell_type": "code",
   "execution_count": 26,
   "metadata": {},
   "outputs": [
    {
     "name": "stdout",
     "output_type": "stream",
     "text": [
      "The Minimized Transition Table is : \n"
     ]
    },
    {
     "data": {
      "text/plain": "         0     1\nQ4Q3  Q4Q3    Q5\nQ0      Q1    Q2\nQ1      Q0  Q4Q3\nQ2    Q4Q3    Q5\nQ5      Q5    Q5",
      "text/html": "<div>\n<style scoped>\n    .dataframe tbody tr th:only-of-type {\n        vertical-align: middle;\n    }\n\n    .dataframe tbody tr th {\n        vertical-align: top;\n    }\n\n    .dataframe thead th {\n        text-align: right;\n    }\n</style>\n<table border=\"1\" class=\"dataframe\">\n  <thead>\n    <tr style=\"text-align: right;\">\n      <th></th>\n      <th>0</th>\n      <th>1</th>\n    </tr>\n  </thead>\n  <tbody>\n    <tr>\n      <th>Q4Q3</th>\n      <td>Q4Q3</td>\n      <td>Q5</td>\n    </tr>\n    <tr>\n      <th>Q0</th>\n      <td>Q1</td>\n      <td>Q2</td>\n    </tr>\n    <tr>\n      <th>Q1</th>\n      <td>Q0</td>\n      <td>Q4Q3</td>\n    </tr>\n    <tr>\n      <th>Q2</th>\n      <td>Q4Q3</td>\n      <td>Q5</td>\n    </tr>\n    <tr>\n      <th>Q5</th>\n      <td>Q5</td>\n      <td>Q5</td>\n    </tr>\n  </tbody>\n</table>\n</div>"
     },
     "execution_count": 26,
     "metadata": {},
     "output_type": "execute_result"
    }
   ],
   "source": [
    "print(\"The Minimized Transition Table is : \")\n",
    "\n",
    "df = pd.DataFrame(final_transtions,columns=symbol,index=index)\n",
    "df"
   ]
  },
  {
   "cell_type": "code",
   "execution_count": 32,
   "outputs": [],
   "source": [
    "def dfa_to_regex(dfa):\n",
    "    # Step 1: Create a matrix representing the system of equations\n",
    "    n = len(dfa.states)\n",
    "    matrix = [[None for j in range(n)] for i in range(n)]\n",
    "    for i, state_i in enumerate(dfa.states):\n",
    "        for j, state_j in enumerate(dfa.states):\n",
    "            if state_j in dfa.transitions[state_i]:\n",
    "                matrix[i][j] = dfa.transitions[state_i][state_j]\n",
    "        if i == j:\n",
    "            matrix[i][j] = \"(1)\" # Add a 1 in the diagonal\n",
    "\n",
    "    # Step 2: Solve the system of equations using Arden's Theorem\n",
    "    for k in range(n):\n",
    "        for i in range(n):\n",
    "            if matrix[i][k] is not None:\n",
    "                for j in range(n):\n",
    "                    if matrix[k][j] is not None:\n",
    "                        if matrix[i][j] is None:\n",
    "                            matrix[i][j] = matrix[i][k] + \"(\" + matrix[k][k] + \")*\" + matrix[k][j]\n",
    "                        else:\n",
    "                            matrix[i][j] = matrix[i][j] + \"+\" + matrix[i][k] + \"(\" + matrix[k][k] + \")*\" + matrix[k][j]\n",
    "\n",
    "    # Step 3: Extract the regular expression for the start and accept state\n",
    "    start_state = dfa.start_state\n",
    "    accept_state = dfa.accept_states[0]\n",
    "    return matrix[start_state][accept_state]"
   ],
   "metadata": {
    "collapsed": false
   }
  },
  {
   "cell_type": "code",
   "execution_count": 29,
   "outputs": [],
   "source": [
    "class DFA:\n",
    "    def __init__(self, states, transitions, start_state, accept_states):\n",
    "        self.states = states\n",
    "        self.transitions = transitions\n",
    "        self.start_state = start_state\n",
    "        self.accept_states = accept_states\n",
    "\n",
    "\n",
    "\n",
    "\n",
    "\n",
    "states = [0, 1, 2, 3, 4, 5]\n",
    "transitions = {\n",
    "    0: {'a': 1, 'b': 2},\n",
    "    1: {'a': 3, 'b': 4},\n",
    "    2: {'a': 4, 'b': 3},\n",
    "    3: {'a': 5, 'b': 5},\n",
    "    4: {'a': 5, 'b': 5},\n",
    "    5: {'a': 5, 'b': 5}\n",
    "}\n",
    "start_state = 0\n",
    "accept_states = {1, 2, 5}\n",
    "\n",
    "dfa = DFA(states, transitions, start_state, accept_states)"
   ],
   "metadata": {
    "collapsed": false
   }
  },
  {
   "cell_type": "code",
   "execution_count": 33,
   "outputs": [
    {
     "ename": "TypeError",
     "evalue": "'set' object is not subscriptable",
     "output_type": "error",
     "traceback": [
      "\u001B[1;31m---------------------------------------------------------------------------\u001B[0m",
      "\u001B[1;31mTypeError\u001B[0m                                 Traceback (most recent call last)",
      "Cell \u001B[1;32mIn[33], line 1\u001B[0m\n\u001B[1;32m----> 1\u001B[0m \u001B[43mdfa_to_regex\u001B[49m\u001B[43m(\u001B[49m\u001B[43mdfa\u001B[49m\u001B[43m)\u001B[49m\n",
      "Cell \u001B[1;32mIn[32], line 25\u001B[0m, in \u001B[0;36mdfa_to_regex\u001B[1;34m(dfa)\u001B[0m\n\u001B[0;32m     23\u001B[0m \u001B[38;5;66;03m# Step 3: Extract the regular expression for the start and accept state\u001B[39;00m\n\u001B[0;32m     24\u001B[0m start_state \u001B[38;5;241m=\u001B[39m dfa\u001B[38;5;241m.\u001B[39mstart_state\n\u001B[1;32m---> 25\u001B[0m accept_state \u001B[38;5;241m=\u001B[39m \u001B[43mdfa\u001B[49m\u001B[38;5;241;43m.\u001B[39;49m\u001B[43maccept_states\u001B[49m\u001B[43m[\u001B[49m\u001B[38;5;241;43m0\u001B[39;49m\u001B[43m]\u001B[49m\n\u001B[0;32m     26\u001B[0m \u001B[38;5;28;01mreturn\u001B[39;00m matrix[start_state][accept_state]\n",
      "\u001B[1;31mTypeError\u001B[0m: 'set' object is not subscriptable"
     ]
    }
   ],
   "source": [
    "dfa_to_regex(dfa)"
   ],
   "metadata": {
    "collapsed": false
   }
  },
  {
   "cell_type": "code",
   "execution_count": null,
   "outputs": [],
   "source": [],
   "metadata": {
    "collapsed": false
   }
  }
 ],
 "metadata": {
  "kernelspec": {
   "display_name": "Python 3",
   "language": "python",
   "name": "python3"
  },
  "language_info": {
   "codemirror_mode": {
    "name": "ipython",
    "version": 3
   },
   "file_extension": ".py",
   "mimetype": "text/x-python",
   "name": "python",
   "nbconvert_exporter": "python",
   "pygments_lexer": "ipython3",
   "version": "3.10.2"
  },
  "orig_nbformat": 4
 },
 "nbformat": 4,
 "nbformat_minor": 2
}
